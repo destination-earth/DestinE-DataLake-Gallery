{
 "cells": [
  {
   "cell_type": "markdown",
   "id": "8ad97dfc",
   "metadata": {
    "vscode": {
     "languageId": "plaintext"
    }
   },
   "source": [
    "---\n",
    "title: \"Dask 101\"\n",
    "description: \"Einführung in Dask mit STAC-Service\"\n",
    "tags: [Dask, STAC]\n",
    "author: \"Katharina\"\n",
    "thumbnail: \"img/STAC-01.png\"\n",
    "license: \"MIT\"\n",
    "---\n"
   ]
  },
  {
   "cell_type": "markdown",
   "id": "dc30e542",
   "metadata": {
    "vscode": {
     "languageId": "plaintext"
    }
   },
   "source": [
    "#hello"
   ]
  },
  {
   "cell_type": "markdown",
   "id": "2c6760e4",
   "metadata": {},
   "source": []
  },
  {
   "cell_type": "markdown",
   "id": "077e80de",
   "metadata": {},
   "source": []
  }
 ],
 "metadata": {
  "language_info": {
   "name": "python"
  }
 },
 "nbformat": 4,
 "nbformat_minor": 5
}
