{
 "cells": [
  {
   "cell_type": "code",
   "execution_count": null,
   "id": "8ad97dfc",
   "metadata": {
    "vscode": {
     "languageId": "plaintext"
    }
   },
   "outputs": [],
   "source": [
    "print('hello)"
   ]
  },
  {
   "cell_type": "markdown",
   "id": "dc30e542",
   "metadata": {
    "vscode": {
     "languageId": "plaintext"
    }
   },
   "source": [
    "#hello"
   ]
  },
  {
   "cell_type": "markdown",
   "id": "2c6760e4",
   "metadata": {},
   "source": []
  }
 ],
 "metadata": {
  "language_info": {
   "name": "python"
  }
 },
 "nbformat": 4,
 "nbformat_minor": 5
}
