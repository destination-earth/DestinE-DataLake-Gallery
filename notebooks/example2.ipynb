{
 "cells": [
  {
   "cell_type": "code",
   "execution_count": null,
   "id": "6b01bc02",
   "metadata": {
    "vscode": {
     "languageId": "plaintext"
    }
   },
   "outputs": [],
   "source": [
    "print('Hello World)"
   ]
  },
  {
   "cell_type": "markdown",
   "id": "6a963df0",
   "metadata": {},
   "source": [
    "example"
   ]
  }
 ],
 "metadata": {
  "language_info": {
   "name": "python"
  }
 },
 "nbformat": 4,
 "nbformat_minor": 5
}
