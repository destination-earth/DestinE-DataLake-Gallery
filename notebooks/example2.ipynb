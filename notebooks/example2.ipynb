{
 "cells": [
  {
   "cell_type": "markdown",
   "id": "11b5e01b",
   "metadata": {
    "vscode": {
     "languageId": "plaintext"
    }
   },
   "source": [
    "---\n",
    "title: \"Dask 101\"\n",
    "description: \"Einführung in Dask mit STAC-Service\"\n",
    "tags: [Dask, STAC]\n",
    "author: \"Katharina\"\n",
    "thumbnail: \"img/STAC-01.png\"\n",
    "license: \"MIT\"\n",
    "---\n"
   ]
  },
  {
   "cell_type": "code",
   "execution_count": null,
   "id": "6b01bc02",
   "metadata": {
    "vscode": {
     "languageId": "plaintext"
    }
   },
   "outputs": [],
   "source": [
    "print('Hello World)"
   ]
  },
  {
   "cell_type": "markdown",
   "id": "6a963df0",
   "metadata": {},
   "source": [
    "example"
   ]
  }
 ],
 "metadata": {
  "language_info": {
   "name": "python"
  }
 },
 "nbformat": 4,
 "nbformat_minor": 5
}
